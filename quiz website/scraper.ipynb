{
 "cells": [
  {
   "cell_type": "code",
   "execution_count": 1,
   "id": "87b4b287",
   "metadata": {},
   "outputs": [
    {
     "data": {
      "text/html": [
       "<style>.container { width:100% !important; }</style>"
      ],
      "text/plain": [
       "<IPython.core.display.HTML object>"
      ]
     },
     "metadata": {},
     "output_type": "display_data"
    }
   ],
   "source": [
    "from IPython.display import display, HTML\n",
    "display(HTML(\"<style>.container { width:100% !important; }</style>\"))"
   ]
  },
  {
   "cell_type": "code",
   "execution_count": 5,
   "id": "460c5333",
   "metadata": {},
   "outputs": [],
   "source": [
    "##Imports\n",
    "from selenium import webdriver\n",
    "from selenium.webdriver.common.keys import Keys\n",
    "from getpass import getpass\n",
    "from time import sleep\n",
    "from selenium.common.exceptions import NoSuchElementException\n",
    "import json"
   ]
  },
  {
   "cell_type": "markdown",
   "id": "44ea5492",
   "metadata": {},
   "source": [
    "# core functions"
   ]
  },
  {
   "cell_type": "code",
   "execution_count": 6,
   "id": "1c55d9bd",
   "metadata": {},
   "outputs": [],
   "source": [
    "def get_category_links(cat_element_list):\n",
    "    ## get links categories link element\n",
    "    ## find elements having tag name a and get the links\n",
    "    links = []\n",
    "    for cat_element in cat_element_list:\n",
    "        name = cat_element.text\n",
    "        link = cat_element.find_element('tag name','a').get_attribute('href')\n",
    "        links.append((name,link))\n",
    "    return links\n",
    "\n",
    "def get_all_question_category_wise(cat_url):\n",
    "    ## scrape all questions on a particular category pages( first 5 pages)\n",
    "    print(\"inside get all question\")\n",
    "    all_questions = []\n",
    "\n",
    "    for page in range(1,6):\n",
    "        page_url = cat_url+'?pageno='+str(page)\n",
    "        driver.get(page_url)\n",
    "        sleep(4)\n",
    "        try:\n",
    "            question_element_list = driver.find_elements('xpath','//div[@class=\"sques_quiz\"]')\n",
    "        except NoSuchElementException:\n",
    "            #if less then 5 pages\n",
    "            break\n",
    "        for q in question_element_list:\n",
    "            all_questions.append(get_question_info(q))\n",
    "    return all_questions\n",
    "\n",
    "def get_question_info(question):\n",
    "    ## for each questions scraped, collect the answer choices and the correct answer\n",
    "    \n",
    "    q_text = question.find_element('xpath','.//div[@class=\"wp_quiz_question testclass\"]').text\n",
    "    q_text = q_text.split('\\n')[1]\n",
    "    options = question.find_element('xpath','.//div[@class=\"wp_quiz_question_options\"]').text.split('\\n')\n",
    "    question.find_element('xpath','.//a[@class=\"wp_basic_quiz_showans_btn\"]').click()\n",
    "    sleep(0.35)   ## wait for the to be button clicked properly\n",
    "    correct_ans = question.find_element('xpath','.//div[@class=\"ques_answer\"]').text.split()[2]\n",
    "    try:\n",
    "        notes = question.find_element('xpath','.//div[@class=\"answer_hint\"]').text.split('\\n')[1]\n",
    "    except:\n",
    "        notes = ''\n",
    "    return (q_text,options,correct_ans,notes)"
   ]
  },
  {
   "cell_type": "code",
   "execution_count": null,
   "id": "3316f5f3",
   "metadata": {},
   "outputs": [],
   "source": [
    "categories = driver.find_elements('xpath','//div[@class=\"fivecol column\"]')\n",
    "gk_subjects = get_category_links(categories[:16])\n",
    "gk_states = get_category_links(categories[16:])"
   ]
  },
  {
   "cell_type": "markdown",
   "id": "a8a544c6",
   "metadata": {},
   "source": [
    "# Collecting subject-wise GK"
   ]
  },
  {
   "cell_type": "code",
   "execution_count": null,
   "id": "fd14362b",
   "metadata": {},
   "outputs": [],
   "source": [
    "##CONNECTING TO --a quiz website (www.example-quiz-site.com)\n",
    "driver = webdriver.Chrome()\n",
    "driver.get('www.example-quiz-site.com')\n",
    "\n",
    "##GETTING GK_common_category   \n",
    "## SUB_WISE_QUESTION_BANK SIZE:: 50*16 = 800\n",
    "\n",
    "## a dictionary {category_name:questions_list}\n",
    "SUB_WISE_QUESTION_BANK = {}\n",
    "for category in gk_subjects:\n",
    "    cat_name = category[0]\n",
    "    cat_url = category[1]\n",
    "    driver.get(cat_url)\n",
    "    sleep(2)\n",
    "    questions = get_all_question_category_wise(cat_url)\n",
    "    SUB_WISE_QUESTION_BANK.update({cat_name:questions})"
   ]
  },
  {
   "cell_type": "markdown",
   "id": "6fd69ac4",
   "metadata": {},
   "source": [
    "## save the collected subject-wise question in json file"
   ]
  },
  {
   "cell_type": "code",
   "execution_count": null,
   "id": "b63242ae",
   "metadata": {},
   "outputs": [],
   "source": [
    "with open('general_category_question.json','w') as fp:\n",
    "    json.dump(SUB_WISE_QUESTION_BANK,fp)"
   ]
  },
  {
   "cell_type": "markdown",
   "id": "b3bb9ba3",
   "metadata": {},
   "source": [
    "## Store questions to Database"
   ]
  },
  {
   "cell_type": "code",
   "execution_count": null,
   "id": "90b3ec01",
   "metadata": {},
   "outputs": [],
   "source": [
    "import mysql.connector\n",
    "from getpass import getpass\n",
    "import json\n",
    "\n",
    "conn = mysql.connector.connect(user='dbuser',password=getpass(),host='127.0.0.1',database='dbname')\n",
    "mycursor = conn.cursor()\n",
    "\n",
    "# load data from our json file\n",
    "# Insert the questions into the database\n",
    "with open('general_category_question.json') as fp:\n",
    "    question_raw = json.load(fp)\n",
    "    \n",
    "    for enum in enumerate(question_raw.keys()):\n",
    "    category_id = enum[0]\n",
    "    category_name = enum[1]\n",
    "    query = 'INSERT INTO category (category_id,category_name) values(%s,%s)'\n",
    "    val = (category_id,category_name)\n",
    "    mycursor.execute(query,val)\n",
    "    conn.commit()\n",
    "    for question in question_raw[category_name]:\n",
    "        q_id = question_global_id\n",
    "        question_global_id += 1\n",
    "        q_text = question[0]\n",
    "        options = question[1]\n",
    "        #unpack options\n",
    "        opt1 = options[0]\n",
    "        opt2 = options[1]\n",
    "        opt3 = options[2]\n",
    "        opt4 = options[3]\n",
    "        \n",
    "        ans = question[2]\n",
    "        notes = question[3]\n",
    "        #insert to db table question_bank\n",
    "        query = 'INSERT INTO question_bank values(%s,%s,%s,%s,%s,%s,%s,%s,%s)'\n",
    "        val = (q_id,q_text,opt1,opt2,opt3,opt4,ans,notes,category_id)\n",
    "        mycursor.execute(query,val)\n",
    "        conn.commit()"
   ]
  },
  {
   "cell_type": "code",
   "execution_count": null,
   "id": "bdbc3496",
   "metadata": {},
   "outputs": [],
   "source": []
  }
 ],
 "metadata": {
  "kernelspec": {
   "display_name": "Python 3 (ipykernel)",
   "language": "python",
   "name": "python3"
  },
  "language_info": {
   "codemirror_mode": {
    "name": "ipython",
    "version": 3
   },
   "file_extension": ".py",
   "mimetype": "text/x-python",
   "name": "python",
   "nbconvert_exporter": "python",
   "pygments_lexer": "ipython3",
   "version": "3.8.10"
  }
 },
 "nbformat": 4,
 "nbformat_minor": 5
}
