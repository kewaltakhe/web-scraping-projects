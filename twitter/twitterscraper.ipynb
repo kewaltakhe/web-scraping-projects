{
 "cells": [
  {
   "cell_type": "code",
   "execution_count": 1,
   "id": "3d9f4490",
   "metadata": {},
   "outputs": [
    {
     "data": {
      "text/html": [
       "<style>.container { width:100% !important; }</style>"
      ],
      "text/plain": [
       "<IPython.core.display.HTML object>"
      ]
     },
     "metadata": {},
     "output_type": "display_data"
    }
   ],
   "source": [
    "from IPython.display import display, HTML\n",
    "display(HTML(\"<style>.container { width:100% !important; }</style>\"))"
   ]
  },
  {
   "cell_type": "code",
   "execution_count": 2,
   "id": "a6219fec",
   "metadata": {},
   "outputs": [],
   "source": [
    "from selenium import webdriver\n",
    "from selenium.common.exceptions import NoSuchElementException\n",
    "from selenium.webdriver.common.keys import Keys\n",
    "from selenium.webdriver.common.by import By\n",
    "from time import sleep\n",
    "import time\n",
    "from getpass import getpass\n",
    "from pprint import pprint"
   ]
  },
  {
   "cell_type": "code",
   "execution_count": 5,
   "id": "7d8533fa",
   "metadata": {},
   "outputs": [],
   "source": [
    "##CONNECTING TO TWITTER\n",
    "driver = webdriver.Chrome()\n",
    "driver.get('https://www.twitter.com/login')"
   ]
  },
  {
   "cell_type": "code",
   "execution_count": 4,
   "id": "c143e57f",
   "metadata": {},
   "outputs": [
    {
     "name": "stdout",
     "output_type": "stream",
     "text": [
      "<class 'selenium.webdriver.remote.webelement.WebElement'>\n"
     ]
    }
   ],
   "source": [
    "username = driver.find_element('xpath','//input[@autocomplete=\"username\"]')\n",
    "print(type(username))"
   ]
  },
  {
   "cell_type": "code",
   "execution_count": 6,
   "id": "58205103",
   "metadata": {},
   "outputs": [
    {
     "name": "stdout",
     "output_type": "stream",
     "text": [
      "········\n"
     ]
    }
   ],
   "source": [
    "##LOGGING-IN\n",
    "username = driver.find_element('xpath','//input[@autocomplete=\"username\"]')\n",
    "username.send_keys(\"kewaltakhellambam5@gmail.com\")\n",
    "username.send_keys(Keys.RETURN)\n",
    "sleep(5)\n",
    "\n",
    "password = driver.find_element('xpath','//input[@autocomplete=\"current-password\"]')\n",
    "password.send_keys(getpass())\n",
    "password.send_keys(Keys.RETURN)"
   ]
  },
  {
   "cell_type": "code",
   "execution_count": 7,
   "id": "52b77156",
   "metadata": {},
   "outputs": [],
   "source": [
    "def get_tweet_info(tweet):\n",
    "    username = tweet.find_element('xpath','.//span[1]').text\n",
    "    handle = tweet.find_element('xpath','.//span[contains(text(),\"@\")]').text\n",
    "    try:\n",
    "        post_date = tweet.find_element(By.TAG_NAME,'time').get_attribute('datetime')\n",
    "    except NoSuchElementException:\n",
    "        return\n",
    "    comment = tweet.find_element('xpath','.//div[2]/div[2]/div[2]/div[1]').text\n",
    "    responding_to = tweet.find_element('xpath','.//div[2]/div[2]/div[2]/div[2]').text\n",
    "    likes = tweet.find_element('xpath','.//div[2]/div[2]/div[2]').find_element('xpath','.//div[@data-testid=\"like\"]').text\n",
    "    retweets = tweet.find_element('xpath','.//div[2]/div[2]/div[2]').find_element('xpath','.//div[@data-testid=\"retweet\"]').text\n",
    "    replies = tweet.find_element('xpath','.//div[2]/div[2]/div[2]').find_element('xpath','.//div[@data-testid=\"reply\"]').text\n",
    "    story = comment+\"--\"+responding_to\n",
    "    return (username,handle,post_date,story,likes,replies,retweets)"
   ]
  },
  {
   "cell_type": "code",
   "execution_count": 8,
   "id": "c7da68af",
   "metadata": {},
   "outputs": [],
   "source": [
    "##SEARCHING A KEY WORD IN TWITTER SEARCH\n",
    "explore = driver.find_element('xpath','//a[@href=\"/explore\"]')\n",
    "explore.click()\n",
    "sleep(3)\n",
    "search = driver.find_element('xpath','//input[@aria-label=\"Search query\"]')\n",
    "search.send_keys(Keys.CONTROL, \"a\")\n",
    "search.send_keys(Keys.DELETE)\n",
    "search.clear()\n",
    "search.send_keys('#WorldCup')\n",
    "search.send_keys(Keys.RETURN)"
   ]
  },
  {
   "cell_type": "code",
   "execution_count": 12,
   "id": "3be33227",
   "metadata": {},
   "outputs": [],
   "source": [
    "## COLLECTING TWEETS AND TWEET INFOS\n",
    "data = []\n",
    "tweet_ids = set()\n",
    "t_end = time.time() + 60 * 2 #loop for 2 minutes\n",
    "while time.time()<t_end:\n",
    "    tweets = driver.find_elements('xpath','//article[@data-testid=\"tweet\"]')\n",
    "    for tweet in tweets:\n",
    "        tweet_info = get_tweet_info(tweet)\n",
    "        if tweet_info:\n",
    "            tweet_id = ''.join(tweet_info)\n",
    "            if tweet_id not in tweet_ids:\n",
    "                tweet_ids.add(tweet_id)\n",
    "                data.append(tweet_info)\n",
    "    driver.execute_script('window.scrollTo(0,document.body.scrollHeight);')\n",
    "    sleep(1)"
   ]
  },
  {
   "cell_type": "code",
   "execution_count": 32,
   "id": "37cc0400",
   "metadata": {},
   "outputs": [],
   "source": [
    "tweet1 = driver.find_elements('xpath','//article[@data-testid=\"tweet\"]')\n",
    "driver.execute_script('window.scrollTo(document.body.scrollHeight,0);')\n",
    "sleep(5)\n",
    "tweet2 = driver.find_elements('xpath','//article[@data-testid=\"tweet\"]')"
   ]
  },
  {
   "cell_type": "code",
   "execution_count": null,
   "id": "a714a0f6",
   "metadata": {},
   "outputs": [],
   "source": []
  }
 ],
 "metadata": {
  "kernelspec": {
   "display_name": "Python 3 (ipykernel)",
   "language": "python",
   "name": "python3"
  },
  "language_info": {
   "codemirror_mode": {
    "name": "ipython",
    "version": 3
   },
   "file_extension": ".py",
   "mimetype": "text/x-python",
   "name": "python",
   "nbconvert_exporter": "python",
   "pygments_lexer": "ipython3",
   "version": "3.8.10"
  }
 },
 "nbformat": 4,
 "nbformat_minor": 5
}
